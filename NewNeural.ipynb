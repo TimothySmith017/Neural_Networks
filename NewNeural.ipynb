{
 "cells": [
  {
   "cell_type": "code",
   "execution_count": 6,
   "metadata": {},
   "outputs": [
    {
     "output_type": "execute_result",
     "data": {
      "text/plain": "   Pregnancies  Glucose  BloodPressure  SkinThickness  Insulin   BMI  \\\n0            6      148             72             35        0  33.6   \n1            1       85             66             29        0  26.6   \n2            8      183             64              0        0  23.3   \n3            1       89             66             23       94  28.1   \n4            0      137             40             35      168  43.1   \n\n   DiabetesPedigreeFunction  Age  Outcome  \n0                     0.627   50        1  \n1                     0.351   31        0  \n2                     0.672   32        1  \n3                     0.167   21        0  \n4                     2.288   33        1  ",
      "text/html": "<div>\n<style scoped>\n    .dataframe tbody tr th:only-of-type {\n        vertical-align: middle;\n    }\n\n    .dataframe tbody tr th {\n        vertical-align: top;\n    }\n\n    .dataframe thead th {\n        text-align: right;\n    }\n</style>\n<table border=\"1\" class=\"dataframe\">\n  <thead>\n    <tr style=\"text-align: right;\">\n      <th></th>\n      <th>Pregnancies</th>\n      <th>Glucose</th>\n      <th>BloodPressure</th>\n      <th>SkinThickness</th>\n      <th>Insulin</th>\n      <th>BMI</th>\n      <th>DiabetesPedigreeFunction</th>\n      <th>Age</th>\n      <th>Outcome</th>\n    </tr>\n  </thead>\n  <tbody>\n    <tr>\n      <th>0</th>\n      <td>6</td>\n      <td>148</td>\n      <td>72</td>\n      <td>35</td>\n      <td>0</td>\n      <td>33.6</td>\n      <td>0.627</td>\n      <td>50</td>\n      <td>1</td>\n    </tr>\n    <tr>\n      <th>1</th>\n      <td>1</td>\n      <td>85</td>\n      <td>66</td>\n      <td>29</td>\n      <td>0</td>\n      <td>26.6</td>\n      <td>0.351</td>\n      <td>31</td>\n      <td>0</td>\n    </tr>\n    <tr>\n      <th>2</th>\n      <td>8</td>\n      <td>183</td>\n      <td>64</td>\n      <td>0</td>\n      <td>0</td>\n      <td>23.3</td>\n      <td>0.672</td>\n      <td>32</td>\n      <td>1</td>\n    </tr>\n    <tr>\n      <th>3</th>\n      <td>1</td>\n      <td>89</td>\n      <td>66</td>\n      <td>23</td>\n      <td>94</td>\n      <td>28.1</td>\n      <td>0.167</td>\n      <td>21</td>\n      <td>0</td>\n    </tr>\n    <tr>\n      <th>4</th>\n      <td>0</td>\n      <td>137</td>\n      <td>40</td>\n      <td>35</td>\n      <td>168</td>\n      <td>43.1</td>\n      <td>2.288</td>\n      <td>33</td>\n      <td>1</td>\n    </tr>\n  </tbody>\n</table>\n</div>"
     },
     "metadata": {},
     "execution_count": 6
    }
   ],
   "source": [
    "# Import our dependencies\n",
    "from sklearn.model_selection import train_test_split\n",
    "from sklearn.preprocessing import StandardScaler\n",
    "from sklearn.linear_model import LogisticRegression\n",
    "from sklearn.metrics import accuracy_score\n",
    "import pandas as pd\n",
    "import tensorflow as tf\n",
    "\n",
    "# Import our input dataset\n",
    "diabetes_df = pd.read_csv('diabetes.csv')\n",
    "diabetes_df.head()"
   ]
  },
  {
   "cell_type": "code",
   "execution_count": 14,
   "metadata": {},
   "outputs": [],
   "source": [
    "# Remove diabetes outcome target from features data\n",
    "y = diabetes_df['Outcome'].values\n",
    "X = diabetes_df.drop(columns=\"Outcome\")\n",
    "\n",
    "# Split training/test datasets\n",
    "X_train, X_test, y_train, y_test = train_test_split(X, y, random_state=42, stratify=y)"
   ]
  },
  {
   "cell_type": "code",
   "execution_count": 15,
   "metadata": {},
   "outputs": [],
   "source": [
    "# Preprocess numerical data for neural network\n",
    "\n",
    "# Create a StandardScaler instance\n",
    "scaler = StandardScaler()\n",
    "\n",
    "# Fit the StandardScaler\n",
    "X_scaler = scaler.fit(X_train)\n",
    "\n",
    "# Scale the data\n",
    "X_train_scaled = X_scaler.transform(X_train)\n",
    "X_test_scaled = X_scaler.transform(X_test)"
   ]
  },
  {
   "cell_type": "code",
   "execution_count": 16,
   "metadata": {
    "tags": []
   },
   "outputs": [
    {
     "output_type": "stream",
     "name": "stdout",
     "text": "Logistic regression model accuracy: 0.729\n"
    }
   ],
   "source": [
    "# Define the logistic regression model\n",
    "log_classifier = LogisticRegression(solver=\"lbfgs\",max_iter=200)\n",
    "\n",
    "# Train the model\n",
    "log_classifier.fit(X_train,y_train)\n",
    "\n",
    "# Evaluate the model\n",
    "y_pred = log_classifier.predict(X_test)\n",
    "print(f\" Logistic regression model accuracy: {accuracy_score(y_test,y_pred):.3f}\")"
   ]
  },
  {
   "cell_type": "code",
   "execution_count": 19,
   "metadata": {
    "tags": []
   },
   "outputs": [
    {
     "output_type": "stream",
     "name": "stdout",
     "text": "Train on 576 samples\nEpoch 1/100\n576/576 [==============================] - 1s 986us/sample - loss: 0.7177 - accuracy: 0.4462\nEpoch 2/100\n576/576 [==============================] - 0s 56us/sample - loss: 0.6747 - accuracy: 0.5365\nEpoch 3/100\n576/576 [==============================] - 0s 49us/sample - loss: 0.6399 - accuracy: 0.6458\nEpoch 4/100\n576/576 [==============================] - 0s 49us/sample - loss: 0.6106 - accuracy: 0.6892\nEpoch 5/100\n576/576 [==============================] - 0s 50us/sample - loss: 0.5872 - accuracy: 0.7205\nEpoch 6/100\n576/576 [==============================] - 0s 48us/sample - loss: 0.5672 - accuracy: 0.7431\nEpoch 7/100\n576/576 [==============================] - 0s 51us/sample - loss: 0.5512 - accuracy: 0.7569\nEpoch 8/100\n576/576 [==============================] - 0s 50us/sample - loss: 0.5370 - accuracy: 0.7622\nEpoch 9/100\n576/576 [==============================] - 0s 57us/sample - loss: 0.5246 - accuracy: 0.7743\nEpoch 10/100\n576/576 [==============================] - 0s 55us/sample - loss: 0.5149 - accuracy: 0.7760\nEpoch 11/100\n576/576 [==============================] - 0s 58us/sample - loss: 0.5064 - accuracy: 0.7778\nEpoch 12/100\n576/576 [==============================] - 0s 57us/sample - loss: 0.4988 - accuracy: 0.7812\nEpoch 13/100\n576/576 [==============================] - 0s 57us/sample - loss: 0.4921 - accuracy: 0.7830\nEpoch 14/100\n576/576 [==============================] - 0s 57us/sample - loss: 0.4864 - accuracy: 0.7847\nEpoch 15/100\n576/576 [==============================] - 0s 57us/sample - loss: 0.4813 - accuracy: 0.7830\nEpoch 16/100\n576/576 [==============================] - 0s 56us/sample - loss: 0.4767 - accuracy: 0.7899\nEpoch 17/100\n576/576 [==============================] - 0s 53us/sample - loss: 0.4725 - accuracy: 0.7847\nEpoch 18/100\n576/576 [==============================] - 0s 54us/sample - loss: 0.4689 - accuracy: 0.7865\nEpoch 19/100\n576/576 [==============================] - 0s 49us/sample - loss: 0.4658 - accuracy: 0.7865\nEpoch 20/100\n576/576 [==============================] - 0s 56us/sample - loss: 0.4631 - accuracy: 0.7847\nEpoch 21/100\n576/576 [==============================] - 0s 54us/sample - loss: 0.4603 - accuracy: 0.7882\nEpoch 22/100\n576/576 [==============================] - 0s 56us/sample - loss: 0.4580 - accuracy: 0.7899\nEpoch 23/100\n576/576 [==============================] - 0s 54us/sample - loss: 0.4560 - accuracy: 0.7899\nEpoch 24/100\n576/576 [==============================] - 0s 56us/sample - loss: 0.4535 - accuracy: 0.7917\nEpoch 25/100\n576/576 [==============================] - 0s 55us/sample - loss: 0.4518 - accuracy: 0.7934\nEpoch 26/100\n576/576 [==============================] - 0s 52us/sample - loss: 0.4501 - accuracy: 0.7917\nEpoch 27/100\n576/576 [==============================] - 0s 56us/sample - loss: 0.4485 - accuracy: 0.7917\nEpoch 28/100\n576/576 [==============================] - 0s 51us/sample - loss: 0.4474 - accuracy: 0.7899\nEpoch 29/100\n576/576 [==============================] - 0s 52us/sample - loss: 0.4461 - accuracy: 0.7934\nEpoch 30/100\n576/576 [==============================] - 0s 52us/sample - loss: 0.4446 - accuracy: 0.7934\nEpoch 31/100\n576/576 [==============================] - 0s 53us/sample - loss: 0.4433 - accuracy: 0.7917\nEpoch 32/100\n576/576 [==============================] - 0s 55us/sample - loss: 0.4426 - accuracy: 0.7917\nEpoch 33/100\n576/576 [==============================] - 0s 53us/sample - loss: 0.4416 - accuracy: 0.7934\nEpoch 34/100\n576/576 [==============================] - 0s 54us/sample - loss: 0.4409 - accuracy: 0.7951\nEpoch 35/100\n576/576 [==============================] - 0s 50us/sample - loss: 0.4396 - accuracy: 0.7951\nEpoch 36/100\n576/576 [==============================] - 0s 49us/sample - loss: 0.4387 - accuracy: 0.7951\nEpoch 37/100\n576/576 [==============================] - 0s 45us/sample - loss: 0.4382 - accuracy: 0.7951\nEpoch 38/100\n576/576 [==============================] - 0s 48us/sample - loss: 0.4371 - accuracy: 0.7986\nEpoch 39/100\n576/576 [==============================] - 0s 49us/sample - loss: 0.4367 - accuracy: 0.7951\nEpoch 40/100\n576/576 [==============================] - 0s 47us/sample - loss: 0.4359 - accuracy: 0.7969\nEpoch 41/100\n576/576 [==============================] - 0s 54us/sample - loss: 0.4351 - accuracy: 0.7986\nEpoch 42/100\n576/576 [==============================] - 0s 57us/sample - loss: 0.4344 - accuracy: 0.8021\nEpoch 43/100\n576/576 [==============================] - 0s 54us/sample - loss: 0.4336 - accuracy: 0.7986\nEpoch 44/100\n576/576 [==============================] - 0s 55us/sample - loss: 0.4331 - accuracy: 0.7986\nEpoch 45/100\n576/576 [==============================] - 0s 56us/sample - loss: 0.4325 - accuracy: 0.7986\nEpoch 46/100\n576/576 [==============================] - 0s 55us/sample - loss: 0.4319 - accuracy: 0.8003\nEpoch 47/100\n576/576 [==============================] - 0s 58us/sample - loss: 0.4314 - accuracy: 0.8003\nEpoch 48/100\n576/576 [==============================] - 0s 56us/sample - loss: 0.4303 - accuracy: 0.8003\nEpoch 49/100\n576/576 [==============================] - 0s 54us/sample - loss: 0.4298 - accuracy: 0.8003\nEpoch 50/100\n576/576 [==============================] - 0s 56us/sample - loss: 0.4292 - accuracy: 0.8021\nEpoch 51/100\n576/576 [==============================] - 0s 57us/sample - loss: 0.4291 - accuracy: 0.8003\nEpoch 52/100\n576/576 [==============================] - 0s 54us/sample - loss: 0.4282 - accuracy: 0.8003\nEpoch 53/100\n576/576 [==============================] - 0s 54us/sample - loss: 0.4276 - accuracy: 0.8021\nEpoch 54/100\n576/576 [==============================] - 0s 56us/sample - loss: 0.4270 - accuracy: 0.8003\nEpoch 55/100\n576/576 [==============================] - 0s 51us/sample - loss: 0.4267 - accuracy: 0.8021\nEpoch 56/100\n576/576 [==============================] - 0s 54us/sample - loss: 0.4263 - accuracy: 0.8021\nEpoch 57/100\n576/576 [==============================] - 0s 53us/sample - loss: 0.4258 - accuracy: 0.8021\nEpoch 58/100\n576/576 [==============================] - 0s 56us/sample - loss: 0.4252 - accuracy: 0.8038\nEpoch 59/100\n576/576 [==============================] - 0s 56us/sample - loss: 0.4250 - accuracy: 0.8056\nEpoch 60/100\n576/576 [==============================] - 0s 57us/sample - loss: 0.4244 - accuracy: 0.8056\nEpoch 61/100\n576/576 [==============================] - 0s 56us/sample - loss: 0.4240 - accuracy: 0.8021\nEpoch 62/100\n576/576 [==============================] - 0s 57us/sample - loss: 0.4236 - accuracy: 0.8038\nEpoch 63/100\n576/576 [==============================] - 0s 63us/sample - loss: 0.4235 - accuracy: 0.8056\nEpoch 64/100\n576/576 [==============================] - 0s 51us/sample - loss: 0.4227 - accuracy: 0.8056\nEpoch 65/100\n576/576 [==============================] - 0s 51us/sample - loss: 0.4223 - accuracy: 0.8056\nEpoch 66/100\n576/576 [==============================] - 0s 54us/sample - loss: 0.4219 - accuracy: 0.8056\nEpoch 67/100\n576/576 [==============================] - 0s 59us/sample - loss: 0.4217 - accuracy: 0.8038\nEpoch 68/100\n576/576 [==============================] - 0s 66us/sample - loss: 0.4213 - accuracy: 0.8056\nEpoch 69/100\n576/576 [==============================] - 0s 61us/sample - loss: 0.4207 - accuracy: 0.8038\nEpoch 70/100\n576/576 [==============================] - 0s 58us/sample - loss: 0.4205 - accuracy: 0.8038\nEpoch 71/100\n576/576 [==============================] - 0s 58us/sample - loss: 0.4200 - accuracy: 0.8038\nEpoch 72/100\n576/576 [==============================] - 0s 55us/sample - loss: 0.4199 - accuracy: 0.8056\nEpoch 73/100\n576/576 [==============================] - 0s 57us/sample - loss: 0.4194 - accuracy: 0.8090\nEpoch 74/100\n576/576 [==============================] - 0s 53us/sample - loss: 0.4190 - accuracy: 0.8056\nEpoch 75/100\n576/576 [==============================] - 0s 52us/sample - loss: 0.4184 - accuracy: 0.8073\nEpoch 76/100\n576/576 [==============================] - 0s 57us/sample - loss: 0.4182 - accuracy: 0.8090\nEpoch 77/100\n576/576 [==============================] - 0s 53us/sample - loss: 0.4178 - accuracy: 0.8056\nEpoch 78/100\n576/576 [==============================] - 0s 56us/sample - loss: 0.4177 - accuracy: 0.8073\nEpoch 79/100\n576/576 [==============================] - 0s 71us/sample - loss: 0.4170 - accuracy: 0.8090\nEpoch 80/100\n576/576 [==============================] - 0s 55us/sample - loss: 0.4169 - accuracy: 0.8056\nEpoch 81/100\n576/576 [==============================] - 0s 58us/sample - loss: 0.4162 - accuracy: 0.8090\nEpoch 82/100\n576/576 [==============================] - 0s 56us/sample - loss: 0.4160 - accuracy: 0.8056\nEpoch 83/100\n576/576 [==============================] - 0s 54us/sample - loss: 0.4159 - accuracy: 0.8073\nEpoch 84/100\n576/576 [==============================] - 0s 54us/sample - loss: 0.4155 - accuracy: 0.8073\nEpoch 85/100\n576/576 [==============================] - 0s 53us/sample - loss: 0.4148 - accuracy: 0.8056\nEpoch 86/100\n576/576 [==============================] - 0s 50us/sample - loss: 0.4147 - accuracy: 0.8056\nEpoch 87/100\n576/576 [==============================] - 0s 52us/sample - loss: 0.4145 - accuracy: 0.8056\nEpoch 88/100\n576/576 [==============================] - 0s 55us/sample - loss: 0.4144 - accuracy: 0.8056\nEpoch 89/100\n576/576 [==============================] - 0s 55us/sample - loss: 0.4136 - accuracy: 0.8056\nEpoch 90/100\n576/576 [==============================] - 0s 56us/sample - loss: 0.4133 - accuracy: 0.8038\nEpoch 91/100\n576/576 [==============================] - 0s 56us/sample - loss: 0.4132 - accuracy: 0.8056\nEpoch 92/100\n576/576 [==============================] - 0s 54us/sample - loss: 0.4126 - accuracy: 0.8038\nEpoch 93/100\n576/576 [==============================] - 0s 55us/sample - loss: 0.4124 - accuracy: 0.8056\nEpoch 94/100\n576/576 [==============================] - 0s 57us/sample - loss: 0.4123 - accuracy: 0.8021\nEpoch 95/100\n576/576 [==============================] - 0s 55us/sample - loss: 0.4118 - accuracy: 0.8038\nEpoch 96/100\n576/576 [==============================] - 0s 52us/sample - loss: 0.4117 - accuracy: 0.8038\nEpoch 97/100\n576/576 [==============================] - 0s 53us/sample - loss: 0.4108 - accuracy: 0.8003\nEpoch 98/100\n576/576 [==============================] - 0s 49us/sample - loss: 0.4109 - accuracy: 0.8038\nEpoch 99/100\n576/576 [==============================] - 0s 45us/sample - loss: 0.4105 - accuracy: 0.8073\nEpoch 100/100\n576/576 [==============================] - 0s 49us/sample - loss: 0.4100 - accuracy: 0.8056\n192/1 - 0s - loss: 0.5085 - accuracy: 0.7344\nLoss: 0.4998660981655121, Accuracy: 0.734375\n"
    }
   ],
   "source": [
    "# Define the basic neural network model\n",
    "nn_model = tf.keras.models.Sequential()\n",
    "nn_model.add(tf.keras.layers.Dense(units=16, activation=\"relu\", input_dim=8))\n",
    "nn_model.add(tf.keras.layers.Dense(units=1, activation=\"sigmoid\"))\n",
    "\n",
    "# Compile the Sequential model together and customize metrics\n",
    "nn_model.compile(loss=\"binary_crossentropy\", optimizer=\"adam\", metrics=[\"accuracy\"])\n",
    "\n",
    "# Train the model\n",
    "fit_model = nn_model.fit(X_train_scaled, y_train, epochs=100)\n",
    "\n",
    "# Evaluate the model using the test data\n",
    "model_loss, model_accuracy = nn_model.evaluate(X_test_scaled,y_test,verbose=2)\n",
    "print(f\"Loss: {model_loss}, Accuracy: {model_accuracy}\")"
   ]
  },
  {
   "cell_type": "code",
   "execution_count": null,
   "metadata": {},
   "outputs": [],
   "source": []
  }
 ],
 "metadata": {
  "language_info": {
   "codemirror_mode": {
    "name": "ipython",
    "version": 3
   },
   "file_extension": ".py",
   "mimetype": "text/x-python",
   "name": "python",
   "nbconvert_exporter": "python",
   "pygments_lexer": "ipython3",
   "version": 3
  },
  "orig_nbformat": 2,
  "kernelspec": {
   "name": "python_defaultSpec_1602734229450",
   "display_name": "Python 3.7.7 64-bit ('PythonData': conda)"
  }
 },
 "nbformat": 4,
 "nbformat_minor": 2
}