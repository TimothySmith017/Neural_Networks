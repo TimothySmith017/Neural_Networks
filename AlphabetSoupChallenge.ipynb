{
 "cells": [
  {
   "cell_type": "code",
   "execution_count": 1,
   "metadata": {},
   "outputs": [
    {
     "output_type": "execute_result",
     "data": {
      "text/plain": "        EIN                                      NAME APPLICATION_TYPE  \\\n0  10520599              BLUE KNIGHTS MOTORCYCLE CLUB              T10   \n1  10531628    AMERICAN CHESAPEAKE CLUB CHARITABLE TR               T3   \n2  10547893        ST CLOUD PROFESSIONAL FIREFIGHTERS               T5   \n3  10553066            SOUTHSIDE ATHLETIC ASSOCIATION               T3   \n4  10556103  GENETIC RESEARCH INSTITUTE OF THE DESERT               T3   \n\n        AFFILIATION CLASSIFICATION      USE_CASE  ORGANIZATION  STATUS  \\\n0       Independent          C1000    ProductDev   Association       1   \n1       Independent          C2000  Preservation  Co-operative       1   \n2  CompanySponsored          C3000    ProductDev   Association       1   \n3  CompanySponsored          C2000  Preservation         Trust       1   \n4       Independent          C1000     Heathcare         Trust       1   \n\n      INCOME_AMT SPECIAL_CONSIDERATIONS  ASK_AMT  IS_SUCCESSFUL  \n0              0                      N     5000              1  \n1         1-9999                      N   108590              1  \n2              0                      N     5000              0  \n3    10000-24999                      N     6692              1  \n4  100000-499999                      N   142590              1  ",
      "text/html": "<div>\n<style scoped>\n    .dataframe tbody tr th:only-of-type {\n        vertical-align: middle;\n    }\n\n    .dataframe tbody tr th {\n        vertical-align: top;\n    }\n\n    .dataframe thead th {\n        text-align: right;\n    }\n</style>\n<table border=\"1\" class=\"dataframe\">\n  <thead>\n    <tr style=\"text-align: right;\">\n      <th></th>\n      <th>EIN</th>\n      <th>NAME</th>\n      <th>APPLICATION_TYPE</th>\n      <th>AFFILIATION</th>\n      <th>CLASSIFICATION</th>\n      <th>USE_CASE</th>\n      <th>ORGANIZATION</th>\n      <th>STATUS</th>\n      <th>INCOME_AMT</th>\n      <th>SPECIAL_CONSIDERATIONS</th>\n      <th>ASK_AMT</th>\n      <th>IS_SUCCESSFUL</th>\n    </tr>\n  </thead>\n  <tbody>\n    <tr>\n      <th>0</th>\n      <td>10520599</td>\n      <td>BLUE KNIGHTS MOTORCYCLE CLUB</td>\n      <td>T10</td>\n      <td>Independent</td>\n      <td>C1000</td>\n      <td>ProductDev</td>\n      <td>Association</td>\n      <td>1</td>\n      <td>0</td>\n      <td>N</td>\n      <td>5000</td>\n      <td>1</td>\n    </tr>\n    <tr>\n      <th>1</th>\n      <td>10531628</td>\n      <td>AMERICAN CHESAPEAKE CLUB CHARITABLE TR</td>\n      <td>T3</td>\n      <td>Independent</td>\n      <td>C2000</td>\n      <td>Preservation</td>\n      <td>Co-operative</td>\n      <td>1</td>\n      <td>1-9999</td>\n      <td>N</td>\n      <td>108590</td>\n      <td>1</td>\n    </tr>\n    <tr>\n      <th>2</th>\n      <td>10547893</td>\n      <td>ST CLOUD PROFESSIONAL FIREFIGHTERS</td>\n      <td>T5</td>\n      <td>CompanySponsored</td>\n      <td>C3000</td>\n      <td>ProductDev</td>\n      <td>Association</td>\n      <td>1</td>\n      <td>0</td>\n      <td>N</td>\n      <td>5000</td>\n      <td>0</td>\n    </tr>\n    <tr>\n      <th>3</th>\n      <td>10553066</td>\n      <td>SOUTHSIDE ATHLETIC ASSOCIATION</td>\n      <td>T3</td>\n      <td>CompanySponsored</td>\n      <td>C2000</td>\n      <td>Preservation</td>\n      <td>Trust</td>\n      <td>1</td>\n      <td>10000-24999</td>\n      <td>N</td>\n      <td>6692</td>\n      <td>1</td>\n    </tr>\n    <tr>\n      <th>4</th>\n      <td>10556103</td>\n      <td>GENETIC RESEARCH INSTITUTE OF THE DESERT</td>\n      <td>T3</td>\n      <td>Independent</td>\n      <td>C1000</td>\n      <td>Heathcare</td>\n      <td>Trust</td>\n      <td>1</td>\n      <td>100000-499999</td>\n      <td>N</td>\n      <td>142590</td>\n      <td>1</td>\n    </tr>\n  </tbody>\n</table>\n</div>"
     },
     "metadata": {},
     "execution_count": 1
    }
   ],
   "source": [
    "# Import our dependencies\n",
    "from sklearn.model_selection import train_test_split\n",
    "from sklearn.preprocessing import StandardScaler\n",
    "from sklearn.ensemble import RandomForestClassifier\n",
    "from sklearn.metrics import accuracy_score\n",
    "from sklearn.preprocessing import OneHotEncoder\n",
    "import pandas as pd\n",
    "import tensorflow as tf\n",
    "\n",
    "# Import our input dataset\n",
    "charity_df = pd.read_csv('charity_data.csv')\n",
    "charity_df.head()"
   ]
  },
  {
   "cell_type": "code",
   "execution_count": 2,
   "metadata": {},
   "outputs": [
    {
     "output_type": "execute_result",
     "data": {
      "text/plain": "        AFFILIATION      USE_CASE  ORGANIZATION  STATUS     INCOME_AMT  \\\n0       Independent    ProductDev   Association       1              0   \n1       Independent  Preservation  Co-operative       1         1-9999   \n2  CompanySponsored    ProductDev   Association       1              0   \n3  CompanySponsored  Preservation         Trust       1    10000-24999   \n4       Independent     Heathcare         Trust       1  100000-499999   \n\n   ASK_AMT  IS_SUCCESSFUL  \n0     5000              1  \n1   108590              1  \n2     5000              0  \n3     6692              1  \n4   142590              1  ",
      "text/html": "<div>\n<style scoped>\n    .dataframe tbody tr th:only-of-type {\n        vertical-align: middle;\n    }\n\n    .dataframe tbody tr th {\n        vertical-align: top;\n    }\n\n    .dataframe thead th {\n        text-align: right;\n    }\n</style>\n<table border=\"1\" class=\"dataframe\">\n  <thead>\n    <tr style=\"text-align: right;\">\n      <th></th>\n      <th>AFFILIATION</th>\n      <th>USE_CASE</th>\n      <th>ORGANIZATION</th>\n      <th>STATUS</th>\n      <th>INCOME_AMT</th>\n      <th>ASK_AMT</th>\n      <th>IS_SUCCESSFUL</th>\n    </tr>\n  </thead>\n  <tbody>\n    <tr>\n      <th>0</th>\n      <td>Independent</td>\n      <td>ProductDev</td>\n      <td>Association</td>\n      <td>1</td>\n      <td>0</td>\n      <td>5000</td>\n      <td>1</td>\n    </tr>\n    <tr>\n      <th>1</th>\n      <td>Independent</td>\n      <td>Preservation</td>\n      <td>Co-operative</td>\n      <td>1</td>\n      <td>1-9999</td>\n      <td>108590</td>\n      <td>1</td>\n    </tr>\n    <tr>\n      <th>2</th>\n      <td>CompanySponsored</td>\n      <td>ProductDev</td>\n      <td>Association</td>\n      <td>1</td>\n      <td>0</td>\n      <td>5000</td>\n      <td>0</td>\n    </tr>\n    <tr>\n      <th>3</th>\n      <td>CompanySponsored</td>\n      <td>Preservation</td>\n      <td>Trust</td>\n      <td>1</td>\n      <td>10000-24999</td>\n      <td>6692</td>\n      <td>1</td>\n    </tr>\n    <tr>\n      <th>4</th>\n      <td>Independent</td>\n      <td>Heathcare</td>\n      <td>Trust</td>\n      <td>1</td>\n      <td>100000-499999</td>\n      <td>142590</td>\n      <td>1</td>\n    </tr>\n  </tbody>\n</table>\n</div>"
     },
     "metadata": {},
     "execution_count": 2
    }
   ],
   "source": [
    "#NOTE: IS_SUCCESSFUL should be my target\n",
    "\n",
    "#FEATURES will be: AFFILIATION, ORGANIZATION, USE_CASE, STATUS, INCOME_AMT, ASK_AMT,\n",
    "\n",
    "#Dropped will be: EIN, NAME, APPLICATION_TYPE, SPECIAL, CONSIDERATIONS, CLASSIFICATION\n",
    "\n",
    "charity_relevent_df = charity_df.drop(columns=[\"EIN\",\"NAME\",\"APPLICATION_TYPE\",\"SPECIAL_CONSIDERATIONS\",\"CLASSIFICATION\"])\n",
    "charity_relevent_df.head()"
   ]
  },
  {
   "cell_type": "code",
   "execution_count": 3,
   "metadata": {},
   "outputs": [
    {
     "output_type": "execute_result",
     "data": {
      "text/plain": "AFFILIATION     6\nUSE_CASE        5\nORGANIZATION    4\nINCOME_AMT      9\ndtype: int64"
     },
     "metadata": {},
     "execution_count": 3
    }
   ],
   "source": [
    "#Lets make sure that none of the categorical data needs bucketing\n",
    "\n",
    "\n",
    "# Generate our categorical variable list\n",
    "charity_cat = charity_relevent_df.dtypes[charity_relevent_df.dtypes == \"object\"].index.tolist()\n",
    "\n",
    "# Check the number of unique values in each column\n",
    "charity_relevent_df[charity_cat].nunique()"
   ]
  },
  {
   "cell_type": "code",
   "execution_count": 4,
   "metadata": {},
   "outputs": [
    {
     "output_type": "execute_result",
     "data": {
      "text/plain": "Preservation     28095\nProductDev        5671\nCommunityServ      384\nHeathcare          146\nOther                3\nName: USE_CASE, dtype: int64"
     },
     "metadata": {},
     "execution_count": 4
    }
   ],
   "source": [
    "# Check the unique value counts to see if bucketing required\n",
    "charity_relevent_df.USE_CASE.value_counts()\n"
   ]
  },
  {
   "cell_type": "code",
   "execution_count": 5,
   "metadata": {},
   "outputs": [
    {
     "output_type": "execute_result",
     "data": {
      "text/plain": "Trust           23515\nAssociation     10255\nCo-operative      486\nCorporation        43\nName: ORGANIZATION, dtype: int64"
     },
     "metadata": {},
     "execution_count": 5
    }
   ],
   "source": [
    "charity_relevent_df.ORGANIZATION.value_counts()"
   ]
  },
  {
   "cell_type": "code",
   "execution_count": 6,
   "metadata": {},
   "outputs": [],
   "source": [
    "# I AM GOING TO DECIDE NOT TO BUCKET FOR SIMPLICITY"
   ]
  },
  {
   "cell_type": "code",
   "execution_count": 7,
   "metadata": {},
   "outputs": [
    {
     "output_type": "execute_result",
     "data": {
      "text/plain": "   AFFILIATION_CompanySponsored  AFFILIATION_Family/Parent  \\\n0                           0.0                        0.0   \n1                           0.0                        0.0   \n2                           1.0                        0.0   \n3                           1.0                        0.0   \n4                           0.0                        0.0   \n\n   AFFILIATION_Independent  AFFILIATION_National  AFFILIATION_Other  \\\n0                      1.0                   0.0                0.0   \n1                      1.0                   0.0                0.0   \n2                      0.0                   0.0                0.0   \n3                      0.0                   0.0                0.0   \n4                      1.0                   0.0                0.0   \n\n   AFFILIATION_Regional  USE_CASE_CommunityServ  USE_CASE_Heathcare  \\\n0                   0.0                     0.0                 0.0   \n1                   0.0                     0.0                 0.0   \n2                   0.0                     0.0                 0.0   \n3                   0.0                     0.0                 0.0   \n4                   0.0                     0.0                 1.0   \n\n   USE_CASE_Other  USE_CASE_Preservation  ...  ORGANIZATION_Trust  \\\n0             0.0                    0.0  ...                 0.0   \n1             0.0                    1.0  ...                 0.0   \n2             0.0                    0.0  ...                 0.0   \n3             0.0                    1.0  ...                 1.0   \n4             0.0                    0.0  ...                 1.0   \n\n   INCOME_AMT_0  INCOME_AMT_1-9999  INCOME_AMT_10000-24999  \\\n0           1.0                0.0                     0.0   \n1           0.0                1.0                     0.0   \n2           1.0                0.0                     0.0   \n3           0.0                0.0                     1.0   \n4           0.0                0.0                     0.0   \n\n   INCOME_AMT_100000-499999  INCOME_AMT_10M-50M  INCOME_AMT_1M-5M  \\\n0                       0.0                 0.0               0.0   \n1                       0.0                 0.0               0.0   \n2                       0.0                 0.0               0.0   \n3                       0.0                 0.0               0.0   \n4                       1.0                 0.0               0.0   \n\n   INCOME_AMT_25000-99999  INCOME_AMT_50M+  INCOME_AMT_5M-10M  \n0                     0.0              0.0                0.0  \n1                     0.0              0.0                0.0  \n2                     0.0              0.0                0.0  \n3                     0.0              0.0                0.0  \n4                     0.0              0.0                0.0  \n\n[5 rows x 24 columns]",
      "text/html": "<div>\n<style scoped>\n    .dataframe tbody tr th:only-of-type {\n        vertical-align: middle;\n    }\n\n    .dataframe tbody tr th {\n        vertical-align: top;\n    }\n\n    .dataframe thead th {\n        text-align: right;\n    }\n</style>\n<table border=\"1\" class=\"dataframe\">\n  <thead>\n    <tr style=\"text-align: right;\">\n      <th></th>\n      <th>AFFILIATION_CompanySponsored</th>\n      <th>AFFILIATION_Family/Parent</th>\n      <th>AFFILIATION_Independent</th>\n      <th>AFFILIATION_National</th>\n      <th>AFFILIATION_Other</th>\n      <th>AFFILIATION_Regional</th>\n      <th>USE_CASE_CommunityServ</th>\n      <th>USE_CASE_Heathcare</th>\n      <th>USE_CASE_Other</th>\n      <th>USE_CASE_Preservation</th>\n      <th>...</th>\n      <th>ORGANIZATION_Trust</th>\n      <th>INCOME_AMT_0</th>\n      <th>INCOME_AMT_1-9999</th>\n      <th>INCOME_AMT_10000-24999</th>\n      <th>INCOME_AMT_100000-499999</th>\n      <th>INCOME_AMT_10M-50M</th>\n      <th>INCOME_AMT_1M-5M</th>\n      <th>INCOME_AMT_25000-99999</th>\n      <th>INCOME_AMT_50M+</th>\n      <th>INCOME_AMT_5M-10M</th>\n    </tr>\n  </thead>\n  <tbody>\n    <tr>\n      <th>0</th>\n      <td>0.0</td>\n      <td>0.0</td>\n      <td>1.0</td>\n      <td>0.0</td>\n      <td>0.0</td>\n      <td>0.0</td>\n      <td>0.0</td>\n      <td>0.0</td>\n      <td>0.0</td>\n      <td>0.0</td>\n      <td>...</td>\n      <td>0.0</td>\n      <td>1.0</td>\n      <td>0.0</td>\n      <td>0.0</td>\n      <td>0.0</td>\n      <td>0.0</td>\n      <td>0.0</td>\n      <td>0.0</td>\n      <td>0.0</td>\n      <td>0.0</td>\n    </tr>\n    <tr>\n      <th>1</th>\n      <td>0.0</td>\n      <td>0.0</td>\n      <td>1.0</td>\n      <td>0.0</td>\n      <td>0.0</td>\n      <td>0.0</td>\n      <td>0.0</td>\n      <td>0.0</td>\n      <td>0.0</td>\n      <td>1.0</td>\n      <td>...</td>\n      <td>0.0</td>\n      <td>0.0</td>\n      <td>1.0</td>\n      <td>0.0</td>\n      <td>0.0</td>\n      <td>0.0</td>\n      <td>0.0</td>\n      <td>0.0</td>\n      <td>0.0</td>\n      <td>0.0</td>\n    </tr>\n    <tr>\n      <th>2</th>\n      <td>1.0</td>\n      <td>0.0</td>\n      <td>0.0</td>\n      <td>0.0</td>\n      <td>0.0</td>\n      <td>0.0</td>\n      <td>0.0</td>\n      <td>0.0</td>\n      <td>0.0</td>\n      <td>0.0</td>\n      <td>...</td>\n      <td>0.0</td>\n      <td>1.0</td>\n      <td>0.0</td>\n      <td>0.0</td>\n      <td>0.0</td>\n      <td>0.0</td>\n      <td>0.0</td>\n      <td>0.0</td>\n      <td>0.0</td>\n      <td>0.0</td>\n    </tr>\n    <tr>\n      <th>3</th>\n      <td>1.0</td>\n      <td>0.0</td>\n      <td>0.0</td>\n      <td>0.0</td>\n      <td>0.0</td>\n      <td>0.0</td>\n      <td>0.0</td>\n      <td>0.0</td>\n      <td>0.0</td>\n      <td>1.0</td>\n      <td>...</td>\n      <td>1.0</td>\n      <td>0.0</td>\n      <td>0.0</td>\n      <td>1.0</td>\n      <td>0.0</td>\n      <td>0.0</td>\n      <td>0.0</td>\n      <td>0.0</td>\n      <td>0.0</td>\n      <td>0.0</td>\n    </tr>\n    <tr>\n      <th>4</th>\n      <td>0.0</td>\n      <td>0.0</td>\n      <td>1.0</td>\n      <td>0.0</td>\n      <td>0.0</td>\n      <td>0.0</td>\n      <td>0.0</td>\n      <td>1.0</td>\n      <td>0.0</td>\n      <td>0.0</td>\n      <td>...</td>\n      <td>1.0</td>\n      <td>0.0</td>\n      <td>0.0</td>\n      <td>0.0</td>\n      <td>1.0</td>\n      <td>0.0</td>\n      <td>0.0</td>\n      <td>0.0</td>\n      <td>0.0</td>\n      <td>0.0</td>\n    </tr>\n  </tbody>\n</table>\n<p>5 rows × 24 columns</p>\n</div>"
     },
     "metadata": {},
     "execution_count": 7
    }
   ],
   "source": [
    "#Lets encode data now:\n",
    "\n",
    "# Create a OneHotEncoder instance\n",
    "enc = OneHotEncoder(sparse=False)\n",
    "\n",
    "# Fit and transform the OneHotEncoder using the categorical variable list\n",
    "encode_df = pd.DataFrame(enc.fit_transform(charity_relevent_df[charity_cat]))\n",
    "\n",
    "# Add the encoded variable names to the DataFrame\n",
    "encode_df.columns = enc.get_feature_names(charity_cat)\n",
    "encode_df.head()"
   ]
  },
  {
   "cell_type": "code",
   "execution_count": 9,
   "metadata": {},
   "outputs": [
    {
     "output_type": "execute_result",
     "data": {
      "text/plain": "   STATUS  ASK_AMT  IS_SUCCESSFUL  AFFILIATION_CompanySponsored  \\\n0       1     5000              1                           0.0   \n1       1   108590              1                           0.0   \n2       1     5000              0                           1.0   \n3       1     6692              1                           1.0   \n4       1   142590              1                           0.0   \n\n   AFFILIATION_Family/Parent  AFFILIATION_Independent  AFFILIATION_National  \\\n0                        0.0                      1.0                   0.0   \n1                        0.0                      1.0                   0.0   \n2                        0.0                      0.0                   0.0   \n3                        0.0                      0.0                   0.0   \n4                        0.0                      1.0                   0.0   \n\n   AFFILIATION_Other  AFFILIATION_Regional  USE_CASE_CommunityServ  ...  \\\n0                0.0                   0.0                     0.0  ...   \n1                0.0                   0.0                     0.0  ...   \n2                0.0                   0.0                     0.0  ...   \n3                0.0                   0.0                     0.0  ...   \n4                0.0                   0.0                     0.0  ...   \n\n   ORGANIZATION_Trust  INCOME_AMT_0  INCOME_AMT_1-9999  \\\n0                 0.0           1.0                0.0   \n1                 0.0           0.0                1.0   \n2                 0.0           1.0                0.0   \n3                 1.0           0.0                0.0   \n4                 1.0           0.0                0.0   \n\n   INCOME_AMT_10000-24999  INCOME_AMT_100000-499999  INCOME_AMT_10M-50M  \\\n0                     0.0                       0.0                 0.0   \n1                     0.0                       0.0                 0.0   \n2                     0.0                       0.0                 0.0   \n3                     1.0                       0.0                 0.0   \n4                     0.0                       1.0                 0.0   \n\n   INCOME_AMT_1M-5M  INCOME_AMT_25000-99999  INCOME_AMT_50M+  \\\n0               0.0                     0.0              0.0   \n1               0.0                     0.0              0.0   \n2               0.0                     0.0              0.0   \n3               0.0                     0.0              0.0   \n4               0.0                     0.0              0.0   \n\n   INCOME_AMT_5M-10M  \n0                0.0  \n1                0.0  \n2                0.0  \n3                0.0  \n4                0.0  \n\n[5 rows x 27 columns]",
      "text/html": "<div>\n<style scoped>\n    .dataframe tbody tr th:only-of-type {\n        vertical-align: middle;\n    }\n\n    .dataframe tbody tr th {\n        vertical-align: top;\n    }\n\n    .dataframe thead th {\n        text-align: right;\n    }\n</style>\n<table border=\"1\" class=\"dataframe\">\n  <thead>\n    <tr style=\"text-align: right;\">\n      <th></th>\n      <th>STATUS</th>\n      <th>ASK_AMT</th>\n      <th>IS_SUCCESSFUL</th>\n      <th>AFFILIATION_CompanySponsored</th>\n      <th>AFFILIATION_Family/Parent</th>\n      <th>AFFILIATION_Independent</th>\n      <th>AFFILIATION_National</th>\n      <th>AFFILIATION_Other</th>\n      <th>AFFILIATION_Regional</th>\n      <th>USE_CASE_CommunityServ</th>\n      <th>...</th>\n      <th>ORGANIZATION_Trust</th>\n      <th>INCOME_AMT_0</th>\n      <th>INCOME_AMT_1-9999</th>\n      <th>INCOME_AMT_10000-24999</th>\n      <th>INCOME_AMT_100000-499999</th>\n      <th>INCOME_AMT_10M-50M</th>\n      <th>INCOME_AMT_1M-5M</th>\n      <th>INCOME_AMT_25000-99999</th>\n      <th>INCOME_AMT_50M+</th>\n      <th>INCOME_AMT_5M-10M</th>\n    </tr>\n  </thead>\n  <tbody>\n    <tr>\n      <th>0</th>\n      <td>1</td>\n      <td>5000</td>\n      <td>1</td>\n      <td>0.0</td>\n      <td>0.0</td>\n      <td>1.0</td>\n      <td>0.0</td>\n      <td>0.0</td>\n      <td>0.0</td>\n      <td>0.0</td>\n      <td>...</td>\n      <td>0.0</td>\n      <td>1.0</td>\n      <td>0.0</td>\n      <td>0.0</td>\n      <td>0.0</td>\n      <td>0.0</td>\n      <td>0.0</td>\n      <td>0.0</td>\n      <td>0.0</td>\n      <td>0.0</td>\n    </tr>\n    <tr>\n      <th>1</th>\n      <td>1</td>\n      <td>108590</td>\n      <td>1</td>\n      <td>0.0</td>\n      <td>0.0</td>\n      <td>1.0</td>\n      <td>0.0</td>\n      <td>0.0</td>\n      <td>0.0</td>\n      <td>0.0</td>\n      <td>...</td>\n      <td>0.0</td>\n      <td>0.0</td>\n      <td>1.0</td>\n      <td>0.0</td>\n      <td>0.0</td>\n      <td>0.0</td>\n      <td>0.0</td>\n      <td>0.0</td>\n      <td>0.0</td>\n      <td>0.0</td>\n    </tr>\n    <tr>\n      <th>2</th>\n      <td>1</td>\n      <td>5000</td>\n      <td>0</td>\n      <td>1.0</td>\n      <td>0.0</td>\n      <td>0.0</td>\n      <td>0.0</td>\n      <td>0.0</td>\n      <td>0.0</td>\n      <td>0.0</td>\n      <td>...</td>\n      <td>0.0</td>\n      <td>1.0</td>\n      <td>0.0</td>\n      <td>0.0</td>\n      <td>0.0</td>\n      <td>0.0</td>\n      <td>0.0</td>\n      <td>0.0</td>\n      <td>0.0</td>\n      <td>0.0</td>\n    </tr>\n    <tr>\n      <th>3</th>\n      <td>1</td>\n      <td>6692</td>\n      <td>1</td>\n      <td>1.0</td>\n      <td>0.0</td>\n      <td>0.0</td>\n      <td>0.0</td>\n      <td>0.0</td>\n      <td>0.0</td>\n      <td>0.0</td>\n      <td>...</td>\n      <td>1.0</td>\n      <td>0.0</td>\n      <td>0.0</td>\n      <td>1.0</td>\n      <td>0.0</td>\n      <td>0.0</td>\n      <td>0.0</td>\n      <td>0.0</td>\n      <td>0.0</td>\n      <td>0.0</td>\n    </tr>\n    <tr>\n      <th>4</th>\n      <td>1</td>\n      <td>142590</td>\n      <td>1</td>\n      <td>0.0</td>\n      <td>0.0</td>\n      <td>1.0</td>\n      <td>0.0</td>\n      <td>0.0</td>\n      <td>0.0</td>\n      <td>0.0</td>\n      <td>...</td>\n      <td>1.0</td>\n      <td>0.0</td>\n      <td>0.0</td>\n      <td>0.0</td>\n      <td>1.0</td>\n      <td>0.0</td>\n      <td>0.0</td>\n      <td>0.0</td>\n      <td>0.0</td>\n      <td>0.0</td>\n    </tr>\n  </tbody>\n</table>\n<p>5 rows × 27 columns</p>\n</div>"
     },
     "metadata": {},
     "execution_count": 9
    }
   ],
   "source": [
    "# Merge one-hot encoded features and drop the originals\n",
    "charity_df = charity_relevent_df.merge(encode_df,left_index=True, right_index=True)\n",
    "charity_df = charity_df.drop(charity_cat,1)\n",
    "charity_df.head()"
   ]
  },
  {
   "cell_type": "code",
   "execution_count": 11,
   "metadata": {},
   "outputs": [
    {
     "output_type": "execute_result",
     "data": {
      "text/plain": "Index(['STATUS', 'ASK_AMT', 'IS_SUCCESSFUL', 'AFFILIATION_CompanySponsored',\n       'AFFILIATION_Family/Parent', 'AFFILIATION_Independent',\n       'AFFILIATION_National', 'AFFILIATION_Other', 'AFFILIATION_Regional',\n       'USE_CASE_CommunityServ', 'USE_CASE_Heathcare', 'USE_CASE_Other',\n       'USE_CASE_Preservation', 'USE_CASE_ProductDev',\n       'ORGANIZATION_Association', 'ORGANIZATION_Co-operative',\n       'ORGANIZATION_Corporation', 'ORGANIZATION_Trust', 'INCOME_AMT_0',\n       'INCOME_AMT_1-9999', 'INCOME_AMT_10000-24999',\n       'INCOME_AMT_100000-499999', 'INCOME_AMT_10M-50M', 'INCOME_AMT_1M-5M',\n       'INCOME_AMT_25000-99999', 'INCOME_AMT_50M+', 'INCOME_AMT_5M-10M'],\n      dtype='object')"
     },
     "metadata": {},
     "execution_count": 11
    }
   ],
   "source": [
    "charity_df.columns"
   ]
  },
  {
   "cell_type": "code",
   "execution_count": 15,
   "metadata": {},
   "outputs": [],
   "source": [
    "# Remove the target features from the data\n",
    "y = charity_relevent_df['IS_SUCCESSFUL'].values\n",
    "X = charity_df.drop(columns=[\"IS_SUCCESSFUL\"])\n",
    "\n",
    "# Split training/test datasets\n",
    "X_train, X_test, y_train, y_test = train_test_split(X, y, random_state=42, stratify=y)\n",
    "\n",
    "# Create a StandardScaler instance\n",
    "scaler = StandardScaler()\n",
    "\n",
    "# Fit the StandardScaler\n",
    "X_scaler = scaler.fit(X_train)\n",
    "\n",
    "# Scale the data\n",
    "X_train_scaled = X_scaler.transform(X_train)\n",
    "X_test_scaled = X_scaler.transform(X_test)"
   ]
  },
  {
   "cell_type": "code",
   "execution_count": 16,
   "metadata": {},
   "outputs": [],
   "source": [
    "# WE WILL TRY FIRST TO USE A DEEP LEARNING MODEL.\n",
    "# Define the model - deep neural net\n",
    "number_input_features = len(X_train_scaled[0])\n",
    "hidden_nodes_layer1 =  10\n",
    "hidden_nodes_layer2 = 5\n",
    "\n",
    "nn = tf.keras.models.Sequential()\n",
    "\n",
    "# First hidden layer\n",
    "nn.add(\n",
    "    tf.keras.layers.Dense(units=hidden_nodes_layer1, input_dim=number_input_features, activation=\"relu\")\n",
    ")\n",
    "\n",
    "# Second hidden layer\n",
    "nn.add(tf.keras.layers.Dense(units=hidden_nodes_layer2, activation=\"relu\"))\n",
    "\n",
    "\n",
    "# Output layer\n",
    "nn.add(tf.keras.layers.Dense(units=1, activation=\"sigmoid\"))\n",
    "\n",
    "# Compile the Sequential model together and customize metrics\n",
    "nn.compile(loss=\"binary_crossentropy\", optimizer=\"adam\", metrics=[\"accuracy\"])\n"
   ]
  },
  {
   "cell_type": "code",
   "execution_count": 17,
   "metadata": {
    "tags": []
   },
   "outputs": [
    {
     "output_type": "stream",
     "name": "stdout",
     "text": "Train on 25724 samples\nEpoch 1/50\n25724/25724 [==============================] - 2s 91us/sample - loss: 0.6371 - accuracy: 0.6704\nEpoch 2/50\n25724/25724 [==============================] - 1s 48us/sample - loss: 0.6072 - accuracy: 0.6960\nEpoch 3/50\n25724/25724 [==============================] - 1s 46us/sample - loss: 0.6020 - accuracy: 0.6979\nEpoch 4/50\n25724/25724 [==============================] - 1s 47us/sample - loss: 0.6001 - accuracy: 0.6995\nEpoch 5/50\n25724/25724 [==============================] - 1s 49us/sample - loss: 0.5991 - accuracy: 0.7000\nEpoch 6/50\n25724/25724 [==============================] - 1s 48us/sample - loss: 0.5985 - accuracy: 0.6997\nEpoch 7/50\n25724/25724 [==============================] - 1s 49us/sample - loss: 0.5983 - accuracy: 0.6994\nEpoch 8/50\n25724/25724 [==============================] - 1s 48us/sample - loss: 0.5981 - accuracy: 0.7006\nEpoch 9/50\n25724/25724 [==============================] - 1s 47us/sample - loss: 0.5982 - accuracy: 0.7003\nEpoch 10/50\n25724/25724 [==============================] - 1s 50us/sample - loss: 0.5976 - accuracy: 0.7007\nEpoch 11/50\n25724/25724 [==============================] - 1s 47us/sample - loss: 0.5979 - accuracy: 0.7000\nEpoch 12/50\n25724/25724 [==============================] - 1s 47us/sample - loss: 0.5978 - accuracy: 0.7003\nEpoch 13/50\n25724/25724 [==============================] - 1s 47us/sample - loss: 0.5973 - accuracy: 0.7010\nEpoch 14/50\n25724/25724 [==============================] - 1s 47us/sample - loss: 0.5973 - accuracy: 0.7007\nEpoch 15/50\n25724/25724 [==============================] - 1s 53us/sample - loss: 0.5976 - accuracy: 0.7005\nEpoch 16/50\n25724/25724 [==============================] - 1s 54us/sample - loss: 0.5972 - accuracy: 0.7003\nEpoch 17/50\n25724/25724 [==============================] - 1s 51us/sample - loss: 0.5975 - accuracy: 0.7003\nEpoch 18/50\n25724/25724 [==============================] - 1s 49us/sample - loss: 0.5973 - accuracy: 0.7002\nEpoch 19/50\n25724/25724 [==============================] - 1s 48us/sample - loss: 0.5972 - accuracy: 0.7003\nEpoch 20/50\n25724/25724 [==============================] - 1s 48us/sample - loss: 0.5972 - accuracy: 0.6993\nEpoch 21/50\n25724/25724 [==============================] - 1s 48us/sample - loss: 0.5971 - accuracy: 0.7011\nEpoch 22/50\n25724/25724 [==============================] - 1s 48us/sample - loss: 0.5971 - accuracy: 0.7008\nEpoch 23/50\n25724/25724 [==============================] - 1s 51us/sample - loss: 0.5968 - accuracy: 0.6998\nEpoch 24/50\n25724/25724 [==============================] - 1s 53us/sample - loss: 0.5971 - accuracy: 0.7004\nEpoch 25/50\n25724/25724 [==============================] - 1s 54us/sample - loss: 0.5970 - accuracy: 0.7009\nEpoch 26/50\n25724/25724 [==============================] - 1s 53us/sample - loss: 0.5971 - accuracy: 0.6999\nEpoch 27/50\n25724/25724 [==============================] - 1s 54us/sample - loss: 0.5971 - accuracy: 0.7012\nEpoch 28/50\n25724/25724 [==============================] - 1s 53us/sample - loss: 0.5970 - accuracy: 0.7002\nEpoch 29/50\n25724/25724 [==============================] - 1s 51us/sample - loss: 0.5970 - accuracy: 0.6994\nEpoch 30/50\n25724/25724 [==============================] - 1s 53us/sample - loss: 0.5967 - accuracy: 0.7010\nEpoch 31/50\n25724/25724 [==============================] - 1s 53us/sample - loss: 0.5969 - accuracy: 0.6999\nEpoch 32/50\n25724/25724 [==============================] - 1s 50us/sample - loss: 0.5968 - accuracy: 0.7016\nEpoch 33/50\n25724/25724 [==============================] - 1s 49us/sample - loss: 0.5969 - accuracy: 0.7006\nEpoch 34/50\n25724/25724 [==============================] - 1s 47us/sample - loss: 0.5968 - accuracy: 0.7010\nEpoch 35/50\n25724/25724 [==============================] - 1s 49us/sample - loss: 0.5967 - accuracy: 0.6997\nEpoch 36/50\n25724/25724 [==============================] - 1s 51us/sample - loss: 0.5968 - accuracy: 0.7002\nEpoch 37/50\n25724/25724 [==============================] - 1s 52us/sample - loss: 0.5967 - accuracy: 0.7003\nEpoch 38/50\n25724/25724 [==============================] - 1s 51us/sample - loss: 0.5966 - accuracy: 0.7009\nEpoch 39/50\n25724/25724 [==============================] - 1s 50us/sample - loss: 0.5967 - accuracy: 0.6999\nEpoch 40/50\n25724/25724 [==============================] - 1s 52us/sample - loss: 0.5969 - accuracy: 0.7003\nEpoch 41/50\n25724/25724 [==============================] - 1s 53us/sample - loss: 0.5967 - accuracy: 0.7006\nEpoch 42/50\n25724/25724 [==============================] - 1s 54us/sample - loss: 0.5967 - accuracy: 0.7020\nEpoch 43/50\n25724/25724 [==============================] - 1s 56us/sample - loss: 0.5967 - accuracy: 0.7013\nEpoch 44/50\n25724/25724 [==============================] - 1s 47us/sample - loss: 0.5968 - accuracy: 0.7009\nEpoch 45/50\n25724/25724 [==============================] - 1s 46us/sample - loss: 0.5967 - accuracy: 0.7015\nEpoch 46/50\n25724/25724 [==============================] - 1s 46us/sample - loss: 0.5965 - accuracy: 0.7018\nEpoch 47/50\n25724/25724 [==============================] - 1s 46us/sample - loss: 0.5967 - accuracy: 0.7008\nEpoch 48/50\n25724/25724 [==============================] - 1s 44us/sample - loss: 0.5966 - accuracy: 0.7006\nEpoch 49/50\n25724/25724 [==============================] - 1s 46us/sample - loss: 0.5968 - accuracy: 0.6997\nEpoch 50/50\n25724/25724 [==============================] - 1s 45us/sample - loss: 0.5966 - accuracy: 0.7000\n8575/1 - 0s - loss: 0.6524 - accuracy: 0.6975\nLoss: 0.6018178911042283, Accuracy: 0.6974927186965942\n"
    }
   ],
   "source": [
    "#train and evaluate the DLL\n",
    "\n",
    "# Train the model \n",
    "fit_model = nn.fit(X_train_scaled, y_train, epochs=50) \n",
    "# Evaluate the model using the test data \n",
    "model_loss, model_accuracy = nn.evaluate(X_test_scaled,y_test,verbose=2)\n",
    "print(f\"Loss: {model_loss}, Accuracy: {model_accuracy}\")"
   ]
  },
  {
   "cell_type": "code",
   "execution_count": 18,
   "metadata": {},
   "outputs": [],
   "source": [
    "#Okay so this model topped out at about 0.7000 at one point. There is still alot of loss."
   ]
  },
  {
   "cell_type": "code",
   "execution_count": 20,
   "metadata": {},
   "outputs": [],
   "source": [
    "#We will try again, but try a different activation function: THIS time we'll try a sigmoid activation function in the HIDDEN LAYERS\n",
    "\n",
    "# Define the model - deep neural net\n",
    "number_input_features = len(X_train_scaled[0])\n",
    "hidden_nodes_layer1 =  10\n",
    "hidden_nodes_layer2 = 5\n",
    "\n",
    "nn = tf.keras.models.Sequential()\n",
    "\n",
    "# First hidden layer\n",
    "nn.add(\n",
    "    tf.keras.layers.Dense(units=hidden_nodes_layer1, input_dim=number_input_features, activation=\"sigmoid\")\n",
    ")\n",
    "\n",
    "# Second hidden layer\n",
    "nn.add(tf.keras.layers.Dense(units=hidden_nodes_layer2, activation=\"sigmoid\"))\n",
    "\n",
    "\n",
    "# Output layer\n",
    "nn.add(tf.keras.layers.Dense(units=1, activation=\"sigmoid\"))\n",
    "\n",
    "# Compile the Sequential model together and customize metrics\n",
    "nn.compile(loss=\"binary_crossentropy\", optimizer=\"adam\", metrics=[\"accuracy\"])"
   ]
  },
  {
   "cell_type": "code",
   "execution_count": 21,
   "metadata": {
    "tags": []
   },
   "outputs": [
    {
     "output_type": "stream",
     "name": "stdout",
     "text": "Train on 25724 samples\nEpoch 1/50\n25724/25724 [==============================] - 2s 87us/sample - loss: 0.6543 - accuracy: 0.6189\nEpoch 2/50\n25724/25724 [==============================] - 1s 53us/sample - loss: 0.6118 - accuracy: 0.6913\nEpoch 3/50\n25724/25724 [==============================] - 1s 50us/sample - loss: 0.6084 - accuracy: 0.6967\nEpoch 4/50\n25724/25724 [==============================] - 1s 51us/sample - loss: 0.6068 - accuracy: 0.6986\nEpoch 5/50\n25724/25724 [==============================] - 1s 50us/sample - loss: 0.6049 - accuracy: 0.6988\nEpoch 6/50\n25724/25724 [==============================] - 1s 54us/sample - loss: 0.6030 - accuracy: 0.6999\nEpoch 7/50\n25724/25724 [==============================] - 1s 53us/sample - loss: 0.6013 - accuracy: 0.6991\nEpoch 8/50\n25724/25724 [==============================] - 1s 53us/sample - loss: 0.6002 - accuracy: 0.6992\nEpoch 9/50\n25724/25724 [==============================] - 1s 53us/sample - loss: 0.5995 - accuracy: 0.6988\nEpoch 10/50\n25724/25724 [==============================] - 1s 52us/sample - loss: 0.5987 - accuracy: 0.6996\nEpoch 11/50\n25724/25724 [==============================] - 1s 49us/sample - loss: 0.5987 - accuracy: 0.6989\nEpoch 12/50\n25724/25724 [==============================] - 1s 47us/sample - loss: 0.5984 - accuracy: 0.6995\nEpoch 13/50\n25724/25724 [==============================] - 1s 45us/sample - loss: 0.5983 - accuracy: 0.6987\nEpoch 14/50\n25724/25724 [==============================] - 1s 45us/sample - loss: 0.5980 - accuracy: 0.6994\nEpoch 15/50\n25724/25724 [==============================] - 1s 50us/sample - loss: 0.5980 - accuracy: 0.6992\nEpoch 16/50\n25724/25724 [==============================] - 1s 51us/sample - loss: 0.5978 - accuracy: 0.7000\nEpoch 17/50\n25724/25724 [==============================] - 1s 48us/sample - loss: 0.5978 - accuracy: 0.6995\nEpoch 18/50\n25724/25724 [==============================] - 1s 49us/sample - loss: 0.5976 - accuracy: 0.6994\nEpoch 19/50\n25724/25724 [==============================] - 1s 46us/sample - loss: 0.5975 - accuracy: 0.6997\nEpoch 20/50\n25724/25724 [==============================] - 1s 46us/sample - loss: 0.5974 - accuracy: 0.6988\nEpoch 21/50\n25724/25724 [==============================] - 1s 46us/sample - loss: 0.5975 - accuracy: 0.6994\nEpoch 22/50\n25724/25724 [==============================] - 1s 46us/sample - loss: 0.5975 - accuracy: 0.6995\nEpoch 23/50\n25724/25724 [==============================] - 1s 46us/sample - loss: 0.5972 - accuracy: 0.6993\nEpoch 24/50\n25724/25724 [==============================] - 1s 47us/sample - loss: 0.5973 - accuracy: 0.6999\nEpoch 25/50\n25724/25724 [==============================] - 1s 46us/sample - loss: 0.5972 - accuracy: 0.7000\nEpoch 26/50\n25724/25724 [==============================] - 1s 45us/sample - loss: 0.5973 - accuracy: 0.6992\nEpoch 27/50\n25724/25724 [==============================] - 1s 52us/sample - loss: 0.5971 - accuracy: 0.7000\nEpoch 28/50\n25724/25724 [==============================] - 1s 48us/sample - loss: 0.5972 - accuracy: 0.6998\nEpoch 29/50\n25724/25724 [==============================] - 1s 48us/sample - loss: 0.5970 - accuracy: 0.6999\nEpoch 30/50\n25724/25724 [==============================] - 1s 46us/sample - loss: 0.5971 - accuracy: 0.6999\nEpoch 31/50\n25724/25724 [==============================] - 1s 47us/sample - loss: 0.5969 - accuracy: 0.6998\nEpoch 32/50\n25724/25724 [==============================] - 1s 48us/sample - loss: 0.5970 - accuracy: 0.6995\nEpoch 33/50\n25724/25724 [==============================] - 2s 60us/sample - loss: 0.5969 - accuracy: 0.6995\nEpoch 34/50\n25724/25724 [==============================] - 1s 56us/sample - loss: 0.5969 - accuracy: 0.6992\nEpoch 35/50\n25724/25724 [==============================] - 1s 52us/sample - loss: 0.5968 - accuracy: 0.7004\nEpoch 36/50\n25724/25724 [==============================] - 1s 51us/sample - loss: 0.5968 - accuracy: 0.6996\nEpoch 37/50\n25724/25724 [==============================] - 2s 60us/sample - loss: 0.5969 - accuracy: 0.6998\nEpoch 38/50\n25724/25724 [==============================] - 2s 59us/sample - loss: 0.5967 - accuracy: 0.7002\nEpoch 39/50\n25724/25724 [==============================] - 1s 57us/sample - loss: 0.5967 - accuracy: 0.6987\nEpoch 40/50\n25724/25724 [==============================] - 1s 49us/sample - loss: 0.5967 - accuracy: 0.7006\nEpoch 41/50\n25724/25724 [==============================] - 1s 51us/sample - loss: 0.5967 - accuracy: 0.7000\nEpoch 42/50\n25724/25724 [==============================] - 1s 50us/sample - loss: 0.5966 - accuracy: 0.7004\nEpoch 43/50\n25724/25724 [==============================] - 1s 57us/sample - loss: 0.5966 - accuracy: 0.7009\nEpoch 44/50\n25724/25724 [==============================] - 1s 55us/sample - loss: 0.5966 - accuracy: 0.7013\nEpoch 45/50\n25724/25724 [==============================] - 1s 54us/sample - loss: 0.5967 - accuracy: 0.7001\nEpoch 46/50\n25724/25724 [==============================] - 1s 51us/sample - loss: 0.5966 - accuracy: 0.7012\nEpoch 47/50\n25724/25724 [==============================] - 1s 54us/sample - loss: 0.5966 - accuracy: 0.6989\nEpoch 48/50\n25724/25724 [==============================] - 2s 62us/sample - loss: 0.5966 - accuracy: 0.7011\nEpoch 49/50\n25724/25724 [==============================] - 2s 62us/sample - loss: 0.5966 - accuracy: 0.7008\nEpoch 50/50\n25724/25724 [==============================] - 2s 59us/sample - loss: 0.5965 - accuracy: 0.7018\n8575/1 - 0s - loss: 0.6505 - accuracy: 0.6966\nLoss: 0.6016162243806934, Accuracy: 0.6965597867965698\n"
    }
   ],
   "source": [
    "# Train the model \n",
    "fit_model = nn.fit(X_train_scaled, y_train, epochs=50) \n",
    "# Evaluate the model using the test data \n",
    "model_loss, model_accuracy = nn.evaluate(X_test_scaled,y_test,verbose=2)\n",
    "print(f\"Loss: {model_loss}, Accuracy: {model_accuracy}\")"
   ]
  },
  {
   "cell_type": "code",
   "execution_count": 22,
   "metadata": {},
   "outputs": [],
   "source": [
    "#Okay, this sucked too! Lets try going back to a \"Relu\" activation function in the Hidden Layers, but we'll attempt to add more layers"
   ]
  },
  {
   "cell_type": "code",
   "execution_count": 23,
   "metadata": {},
   "outputs": [],
   "source": [
    "# Define the model - deep neural net\n",
    "number_input_features = len(X_train_scaled[0])\n",
    "hidden_nodes_layer1 =  20\n",
    "hidden_nodes_layer2 = 10\n",
    "\n",
    "nn = tf.keras.models.Sequential()\n",
    "\n",
    "# First hidden layer\n",
    "nn.add(\n",
    "    tf.keras.layers.Dense(units=hidden_nodes_layer1, input_dim=number_input_features, activation=\"relu\")\n",
    ")\n",
    "\n",
    "# Second hidden layer\n",
    "nn.add(tf.keras.layers.Dense(units=hidden_nodes_layer2, activation=\"relu\"))\n",
    "\n",
    "\n",
    "# Output layer\n",
    "nn.add(tf.keras.layers.Dense(units=1, activation=\"sigmoid\"))\n",
    "\n",
    "# Compile the Sequential model together and customize metrics\n",
    "nn.compile(loss=\"binary_crossentropy\", optimizer=\"adam\", metrics=[\"accuracy\"])"
   ]
  },
  {
   "cell_type": "code",
   "execution_count": 24,
   "metadata": {
    "tags": []
   },
   "outputs": [
    {
     "output_type": "stream",
     "name": "stdout",
     "text": "Train on 25724 samples\nEpoch 1/50\n25724/25724 [==============================] - 3s 105us/sample - loss: 0.6266 - accuracy: 0.6779\nEpoch 2/50\n25724/25724 [==============================] - 1s 57us/sample - loss: 0.6022 - accuracy: 0.6977\nEpoch 3/50\n25724/25724 [==============================] - 1s 55us/sample - loss: 0.6000 - accuracy: 0.6992\nEpoch 4/50\n25724/25724 [==============================] - 2s 58us/sample - loss: 0.5995 - accuracy: 0.6995\nEpoch 5/50\n25724/25724 [==============================] - 2s 58us/sample - loss: 0.5988 - accuracy: 0.6991\nEpoch 6/50\n25724/25724 [==============================] - 1s 55us/sample - loss: 0.5987 - accuracy: 0.6990\nEpoch 7/50\n25724/25724 [==============================] - 1s 55us/sample - loss: 0.5983 - accuracy: 0.7002\nEpoch 8/50\n25724/25724 [==============================] - 2s 64us/sample - loss: 0.5982 - accuracy: 0.7002\nEpoch 9/50\n25724/25724 [==============================] - 1s 57us/sample - loss: 0.5983 - accuracy: 0.6997\nEpoch 10/50\n25724/25724 [==============================] - 1s 55us/sample - loss: 0.5980 - accuracy: 0.7003\nEpoch 11/50\n25724/25724 [==============================] - 1s 56us/sample - loss: 0.5975 - accuracy: 0.7011\nEpoch 12/50\n25724/25724 [==============================] - 1s 55us/sample - loss: 0.5981 - accuracy: 0.7007\nEpoch 13/50\n25724/25724 [==============================] - 1s 53us/sample - loss: 0.5977 - accuracy: 0.6999\nEpoch 14/50\n25724/25724 [==============================] - 1s 53us/sample - loss: 0.5977 - accuracy: 0.7008\nEpoch 15/50\n25724/25724 [==============================] - 1s 53us/sample - loss: 0.5976 - accuracy: 0.6998\nEpoch 16/50\n25724/25724 [==============================] - 1s 58us/sample - loss: 0.5971 - accuracy: 0.7009\nEpoch 17/50\n25724/25724 [==============================] - 2s 60us/sample - loss: 0.5975 - accuracy: 0.7006\nEpoch 18/50\n25724/25724 [==============================] - 2s 60us/sample - loss: 0.5972 - accuracy: 0.7010\nEpoch 19/50\n25724/25724 [==============================] - 1s 53us/sample - loss: 0.5972 - accuracy: 0.7009\nEpoch 20/50\n25724/25724 [==============================] - 1s 55us/sample - loss: 0.5972 - accuracy: 0.7005\nEpoch 21/50\n25724/25724 [==============================] - 1s 55us/sample - loss: 0.5974 - accuracy: 0.7020\nEpoch 22/50\n25724/25724 [==============================] - 1s 57us/sample - loss: 0.5969 - accuracy: 0.7007\nEpoch 23/50\n25724/25724 [==============================] - 1s 55us/sample - loss: 0.5969 - accuracy: 0.7007\nEpoch 24/50\n25724/25724 [==============================] - 2s 60us/sample - loss: 0.5972 - accuracy: 0.7020\nEpoch 25/50\n25724/25724 [==============================] - 2s 60us/sample - loss: 0.5969 - accuracy: 0.7014\nEpoch 26/50\n25724/25724 [==============================] - 1s 58us/sample - loss: 0.5972 - accuracy: 0.7017\nEpoch 27/50\n25724/25724 [==============================] - 1s 57us/sample - loss: 0.5970 - accuracy: 0.7012\nEpoch 28/50\n25724/25724 [==============================] - 2s 59us/sample - loss: 0.5967 - accuracy: 0.7013\nEpoch 29/50\n25724/25724 [==============================] - 2s 59us/sample - loss: 0.5969 - accuracy: 0.7011\nEpoch 30/50\n25724/25724 [==============================] - 1s 54us/sample - loss: 0.5967 - accuracy: 0.7011\nEpoch 31/50\n25724/25724 [==============================] - 1s 56us/sample - loss: 0.5969 - accuracy: 0.7018\nEpoch 32/50\n25724/25724 [==============================] - 2s 63us/sample - loss: 0.5965 - accuracy: 0.7011\nEpoch 33/50\n25724/25724 [==============================] - 2s 73us/sample - loss: 0.5969 - accuracy: 0.7016\nEpoch 34/50\n25724/25724 [==============================] - 1s 56us/sample - loss: 0.5967 - accuracy: 0.7017\nEpoch 35/50\n25724/25724 [==============================] - 1s 52us/sample - loss: 0.5968 - accuracy: 0.7009\nEpoch 36/50\n25724/25724 [==============================] - 1s 51us/sample - loss: 0.5964 - accuracy: 0.7014\nEpoch 37/50\n25724/25724 [==============================] - 1s 50us/sample - loss: 0.5965 - accuracy: 0.7020\nEpoch 38/50\n25724/25724 [==============================] - 1s 51us/sample - loss: 0.5965 - accuracy: 0.7011\nEpoch 39/50\n25724/25724 [==============================] - 1s 54us/sample - loss: 0.5961 - accuracy: 0.7027\nEpoch 40/50\n25724/25724 [==============================] - 2s 61us/sample - loss: 0.5963 - accuracy: 0.7014\nEpoch 41/50\n25724/25724 [==============================] - 1s 58us/sample - loss: 0.5964 - accuracy: 0.7016\nEpoch 42/50\n25724/25724 [==============================] - 1s 57us/sample - loss: 0.5963 - accuracy: 0.7016\nEpoch 43/50\n25724/25724 [==============================] - 2s 61us/sample - loss: 0.5962 - accuracy: 0.7010\nEpoch 44/50\n25724/25724 [==============================] - 2s 62us/sample - loss: 0.5961 - accuracy: 0.7015\nEpoch 45/50\n25724/25724 [==============================] - 2s 58us/sample - loss: 0.5963 - accuracy: 0.7024\nEpoch 46/50\n25724/25724 [==============================] - 1s 55us/sample - loss: 0.5962 - accuracy: 0.7024\nEpoch 47/50\n25724/25724 [==============================] - 2s 63us/sample - loss: 0.5961 - accuracy: 0.7016\nEpoch 48/50\n25724/25724 [==============================] - 2s 69us/sample - loss: 0.5962 - accuracy: 0.7013\nEpoch 49/50\n25724/25724 [==============================] - 2s 65us/sample - loss: 0.5960 - accuracy: 0.7014\nEpoch 50/50\n25724/25724 [==============================] - 2s 59us/sample - loss: 0.5960 - accuracy: 0.7016\n8575/1 - 0s - loss: 0.6522 - accuracy: 0.6960\nLoss: 0.6034984803755846, Accuracy: 0.6959766745567322\n"
    }
   ],
   "source": [
    "# Train the model \n",
    "fit_model = nn.fit(X_train_scaled, y_train, epochs=50) \n",
    "# Evaluate the model using the test data \n",
    "model_loss, model_accuracy = nn.evaluate(X_test_scaled,y_test,verbose=2)\n",
    "print(f\"Loss: {model_loss}, Accuracy: {model_accuracy}\")"
   ]
  },
  {
   "cell_type": "code",
   "execution_count": 25,
   "metadata": {},
   "outputs": [],
   "source": [
    "#Still having a ton of loss. The fitting is still not great in that it's still at 0.65\n",
    "\n",
    "#Lets try increasing the epochs next"
   ]
  },
  {
   "cell_type": "code",
   "execution_count": 26,
   "metadata": {
    "tags": [
     "outputPrepend"
    ]
   },
   "outputs": [
    {
     "output_type": "stream",
     "name": "stdout",
     "text": "00\n25724/25724 [==============================] - 1s 53us/sample - loss: 0.5950 - accuracy: 0.7016\nEpoch 121/300\n25724/25724 [==============================] - 1s 55us/sample - loss: 0.5950 - accuracy: 0.7023\nEpoch 122/300\n25724/25724 [==============================] - 1s 53us/sample - loss: 0.5951 - accuracy: 0.7020\nEpoch 123/300\n25724/25724 [==============================] - 1s 51us/sample - loss: 0.5949 - accuracy: 0.7024\nEpoch 124/300\n25724/25724 [==============================] - 1s 51us/sample - loss: 0.5950 - accuracy: 0.7025\nEpoch 125/300\n25724/25724 [==============================] - 1s 52us/sample - loss: 0.5951 - accuracy: 0.7019\nEpoch 126/300\n25724/25724 [==============================] - 1s 55us/sample - loss: 0.5950 - accuracy: 0.7027\nEpoch 127/300\n25724/25724 [==============================] - 1s 52us/sample - loss: 0.5952 - accuracy: 0.7022\nEpoch 128/300\n25724/25724 [==============================] - 1s 51us/sample - loss: 0.5951 - accuracy: 0.7022\nEpoch 129/300\n25724/25724 [==============================] - 1s 54us/sample - loss: 0.5948 - accuracy: 0.7027\nEpoch 130/300\n25724/25724 [==============================] - 1s 53us/sample - loss: 0.5950 - accuracy: 0.7016\nEpoch 131/300\n25724/25724 [==============================] - 1s 55us/sample - loss: 0.5948 - accuracy: 0.7026\nEpoch 132/300\n25724/25724 [==============================] - 1s 53us/sample - loss: 0.5949 - accuracy: 0.7021\nEpoch 133/300\n25724/25724 [==============================] - 1s 51us/sample - loss: 0.5950 - accuracy: 0.7027\nEpoch 134/300\n25724/25724 [==============================] - 1s 49us/sample - loss: 0.5949 - accuracy: 0.7023\nEpoch 135/300\n25724/25724 [==============================] - 1s 50us/sample - loss: 0.5950 - accuracy: 0.7015\nEpoch 136/300\n25724/25724 [==============================] - 1s 50us/sample - loss: 0.5949 - accuracy: 0.7023\nEpoch 137/300\n25724/25724 [==============================] - 1s 50us/sample - loss: 0.5949 - accuracy: 0.7028\nEpoch 138/300\n25724/25724 [==============================] - 1s 54us/sample - loss: 0.5950 - accuracy: 0.7023\nEpoch 139/300\n25724/25724 [==============================] - 1s 54us/sample - loss: 0.5950 - accuracy: 0.7026\nEpoch 140/300\n25724/25724 [==============================] - 1s 55us/sample - loss: 0.5948 - accuracy: 0.7021\nEpoch 141/300\n25724/25724 [==============================] - 1s 50us/sample - loss: 0.5948 - accuracy: 0.7019\nEpoch 142/300\n25724/25724 [==============================] - 1s 52us/sample - loss: 0.5947 - accuracy: 0.7017\nEpoch 143/300\n25724/25724 [==============================] - 1s 53us/sample - loss: 0.5950 - accuracy: 0.7023\nEpoch 144/300\n25724/25724 [==============================] - 1s 52us/sample - loss: 0.5950 - accuracy: 0.7027\nEpoch 145/300\n25724/25724 [==============================] - 1s 52us/sample - loss: 0.5950 - accuracy: 0.7016\nEpoch 146/300\n25724/25724 [==============================] - 1s 52us/sample - loss: 0.5948 - accuracy: 0.7021\nEpoch 147/300\n25724/25724 [==============================] - 1s 51us/sample - loss: 0.5947 - accuracy: 0.7026\nEpoch 148/300\n25724/25724 [==============================] - 1s 55us/sample - loss: 0.5950 - accuracy: 0.7019\nEpoch 149/300\n25724/25724 [==============================] - 1s 53us/sample - loss: 0.5948 - accuracy: 0.7019\nEpoch 150/300\n25724/25724 [==============================] - 1s 54us/sample - loss: 0.5950 - accuracy: 0.7031\nEpoch 151/300\n25724/25724 [==============================] - 1s 54us/sample - loss: 0.5948 - accuracy: 0.7024\nEpoch 152/300\n25724/25724 [==============================] - 1s 53us/sample - loss: 0.5951 - accuracy: 0.7022\nEpoch 153/300\n25724/25724 [==============================] - 1s 54us/sample - loss: 0.5948 - accuracy: 0.7025\nEpoch 154/300\n25724/25724 [==============================] - 1s 55us/sample - loss: 0.5949 - accuracy: 0.7019\nEpoch 155/300\n25724/25724 [==============================] - 1s 53us/sample - loss: 0.5950 - accuracy: 0.7027\nEpoch 156/300\n25724/25724 [==============================] - 1s 53us/sample - loss: 0.5947 - accuracy: 0.7025\nEpoch 157/300\n25724/25724 [==============================] - 1s 54us/sample - loss: 0.5949 - accuracy: 0.7023\nEpoch 158/300\n25724/25724 [==============================] - 1s 55us/sample - loss: 0.5948 - accuracy: 0.7020\nEpoch 159/300\n25724/25724 [==============================] - 1s 53us/sample - loss: 0.5948 - accuracy: 0.7021\nEpoch 160/300\n25724/25724 [==============================] - 1s 52us/sample - loss: 0.5948 - accuracy: 0.7024\nEpoch 161/300\n25724/25724 [==============================] - 1s 54us/sample - loss: 0.5949 - accuracy: 0.7020\nEpoch 162/300\n25724/25724 [==============================] - 1s 55us/sample - loss: 0.5949 - accuracy: 0.7021\nEpoch 163/300\n25724/25724 [==============================] - 1s 51us/sample - loss: 0.5948 - accuracy: 0.7025\nEpoch 164/300\n25724/25724 [==============================] - 1s 54us/sample - loss: 0.5948 - accuracy: 0.7025\nEpoch 165/300\n25724/25724 [==============================] - 1s 51us/sample - loss: 0.5947 - accuracy: 0.7015\nEpoch 166/300\n25724/25724 [==============================] - 1s 52us/sample - loss: 0.5949 - accuracy: 0.7017\nEpoch 167/300\n25724/25724 [==============================] - 1s 50us/sample - loss: 0.5947 - accuracy: 0.7037\nEpoch 168/300\n25724/25724 [==============================] - 1s 52us/sample - loss: 0.5947 - accuracy: 0.7025\nEpoch 169/300\n25724/25724 [==============================] - 1s 52us/sample - loss: 0.5949 - accuracy: 0.7018\nEpoch 170/300\n25724/25724 [==============================] - 1s 51us/sample - loss: 0.5948 - accuracy: 0.7025\nEpoch 171/300\n25724/25724 [==============================] - 1s 49us/sample - loss: 0.5947 - accuracy: 0.7021\nEpoch 172/300\n25724/25724 [==============================] - 1s 49us/sample - loss: 0.5949 - accuracy: 0.7020\nEpoch 173/300\n25724/25724 [==============================] - 1s 48us/sample - loss: 0.5948 - accuracy: 0.7022\nEpoch 174/300\n25724/25724 [==============================] - 1s 49us/sample - loss: 0.5946 - accuracy: 0.7020\nEpoch 175/300\n25724/25724 [==============================] - 1s 50us/sample - loss: 0.5945 - accuracy: 0.7024\nEpoch 176/300\n25724/25724 [==============================] - 1s 50us/sample - loss: 0.5946 - accuracy: 0.7024\nEpoch 177/300\n25724/25724 [==============================] - 1s 49us/sample - loss: 0.5949 - accuracy: 0.7019\nEpoch 178/300\n25724/25724 [==============================] - 1s 50us/sample - loss: 0.5946 - accuracy: 0.7027\nEpoch 179/300\n25724/25724 [==============================] - 1s 54us/sample - loss: 0.5948 - accuracy: 0.7026\nEpoch 180/300\n25724/25724 [==============================] - 1s 56us/sample - loss: 0.5947 - accuracy: 0.7024\nEpoch 181/300\n25724/25724 [==============================] - 1s 53us/sample - loss: 0.5947 - accuracy: 0.7018\nEpoch 182/300\n25724/25724 [==============================] - 1s 54us/sample - loss: 0.5948 - accuracy: 0.7020\nEpoch 183/300\n25724/25724 [==============================] - 1s 50us/sample - loss: 0.5947 - accuracy: 0.7021\nEpoch 184/300\n25724/25724 [==============================] - 1s 49us/sample - loss: 0.5946 - accuracy: 0.7019\nEpoch 185/300\n25724/25724 [==============================] - 1s 50us/sample - loss: 0.5948 - accuracy: 0.7027\nEpoch 186/300\n25724/25724 [==============================] - 1s 48us/sample - loss: 0.5945 - accuracy: 0.7030\nEpoch 187/300\n25724/25724 [==============================] - 1s 49us/sample - loss: 0.5947 - accuracy: 0.7018\nEpoch 188/300\n25724/25724 [==============================] - 1s 51us/sample - loss: 0.5949 - accuracy: 0.7025\nEpoch 189/300\n25724/25724 [==============================] - 1s 51us/sample - loss: 0.5946 - accuracy: 0.7023\nEpoch 190/300\n25724/25724 [==============================] - 1s 55us/sample - loss: 0.5946 - accuracy: 0.7017\nEpoch 191/300\n25724/25724 [==============================] - 1s 51us/sample - loss: 0.5948 - accuracy: 0.7020\nEpoch 192/300\n25724/25724 [==============================] - 1s 49us/sample - loss: 0.5947 - accuracy: 0.7023\nEpoch 193/300\n25724/25724 [==============================] - 1s 52us/sample - loss: 0.5947 - accuracy: 0.7025\nEpoch 194/300\n25724/25724 [==============================] - 1s 50us/sample - loss: 0.5946 - accuracy: 0.7021\nEpoch 195/300\n25724/25724 [==============================] - 1s 50us/sample - loss: 0.5948 - accuracy: 0.7025\nEpoch 196/300\n25724/25724 [==============================] - 1s 49us/sample - loss: 0.5946 - accuracy: 0.7021\nEpoch 197/300\n25724/25724 [==============================] - 1s 49us/sample - loss: 0.5945 - accuracy: 0.7024\nEpoch 198/300\n25724/25724 [==============================] - 1s 49us/sample - loss: 0.5946 - accuracy: 0.7025\nEpoch 199/300\n25724/25724 [==============================] - 1s 49us/sample - loss: 0.5947 - accuracy: 0.7019\nEpoch 200/300\n25724/25724 [==============================] - 1s 48us/sample - loss: 0.5947 - accuracy: 0.7025\nEpoch 201/300\n25724/25724 [==============================] - 1s 49us/sample - loss: 0.5945 - accuracy: 0.7023\nEpoch 202/300\n25724/25724 [==============================] - 1s 49us/sample - loss: 0.5947 - accuracy: 0.7020\nEpoch 203/300\n25724/25724 [==============================] - 1s 49us/sample - loss: 0.5946 - accuracy: 0.7025\nEpoch 204/300\n25724/25724 [==============================] - 1s 49us/sample - loss: 0.5945 - accuracy: 0.7030\nEpoch 205/300\n25724/25724 [==============================] - 1s 52us/sample - loss: 0.5943 - accuracy: 0.7024\nEpoch 206/300\n25724/25724 [==============================] - 1s 52us/sample - loss: 0.5946 - accuracy: 0.7026\nEpoch 207/300\n25724/25724 [==============================] - 1s 52us/sample - loss: 0.5947 - accuracy: 0.7025\nEpoch 208/300\n25724/25724 [==============================] - 1s 53us/sample - loss: 0.5946 - accuracy: 0.7021\nEpoch 209/300\n25724/25724 [==============================] - 1s 50us/sample - loss: 0.5944 - accuracy: 0.7026\nEpoch 210/300\n25724/25724 [==============================] - 1s 52us/sample - loss: 0.5945 - accuracy: 0.7031\nEpoch 211/300\n25724/25724 [==============================] - 1s 53us/sample - loss: 0.5946 - accuracy: 0.7026\nEpoch 212/300\n25724/25724 [==============================] - 1s 54us/sample - loss: 0.5946 - accuracy: 0.7020\nEpoch 213/300\n25724/25724 [==============================] - 1s 52us/sample - loss: 0.5944 - accuracy: 0.7033\nEpoch 214/300\n25724/25724 [==============================] - 1s 52us/sample - loss: 0.5945 - accuracy: 0.7025\nEpoch 215/300\n25724/25724 [==============================] - 1s 50us/sample - loss: 0.5944 - accuracy: 0.7022\nEpoch 216/300\n25724/25724 [==============================] - 1s 51us/sample - loss: 0.5947 - accuracy: 0.7024\nEpoch 217/300\n25724/25724 [==============================] - 1s 53us/sample - loss: 0.5944 - accuracy: 0.7019\nEpoch 218/300\n25724/25724 [==============================] - 1s 52us/sample - loss: 0.5945 - accuracy: 0.7025\nEpoch 219/300\n25724/25724 [==============================] - 1s 50us/sample - loss: 0.5946 - accuracy: 0.7022\nEpoch 220/300\n25724/25724 [==============================] - 1s 50us/sample - loss: 0.5944 - accuracy: 0.7028\nEpoch 221/300\n25724/25724 [==============================] - 1s 52us/sample - loss: 0.5947 - accuracy: 0.7027\nEpoch 222/300\n25724/25724 [==============================] - 1s 54us/sample - loss: 0.5945 - accuracy: 0.7025\nEpoch 223/300\n25724/25724 [==============================] - 1s 52us/sample - loss: 0.5944 - accuracy: 0.7028\nEpoch 224/300\n25724/25724 [==============================] - 1s 49us/sample - loss: 0.5945 - accuracy: 0.7034\nEpoch 225/300\n25724/25724 [==============================] - 1s 50us/sample - loss: 0.5945 - accuracy: 0.7027\nEpoch 226/300\n25724/25724 [==============================] - 1s 51us/sample - loss: 0.5944 - accuracy: 0.7021\nEpoch 227/300\n25724/25724 [==============================] - 1s 52us/sample - loss: 0.5945 - accuracy: 0.7025\nEpoch 228/300\n25724/25724 [==============================] - 1s 51us/sample - loss: 0.5946 - accuracy: 0.7031\nEpoch 229/300\n25724/25724 [==============================] - 1s 52us/sample - loss: 0.5943 - accuracy: 0.7022\nEpoch 230/300\n25724/25724 [==============================] - 1s 51us/sample - loss: 0.5944 - accuracy: 0.7020\nEpoch 231/300\n25724/25724 [==============================] - 1s 53us/sample - loss: 0.5945 - accuracy: 0.7030\nEpoch 232/300\n25724/25724 [==============================] - 1s 49us/sample - loss: 0.5945 - accuracy: 0.7020\nEpoch 233/300\n25724/25724 [==============================] - 1s 49us/sample - loss: 0.5944 - accuracy: 0.7030\nEpoch 234/300\n25724/25724 [==============================] - 1s 50us/sample - loss: 0.5944 - accuracy: 0.7027\nEpoch 235/300\n25724/25724 [==============================] - 1s 49us/sample - loss: 0.5944 - accuracy: 0.7027\nEpoch 236/300\n25724/25724 [==============================] - 1s 53us/sample - loss: 0.5945 - accuracy: 0.7025\nEpoch 237/300\n25724/25724 [==============================] - 1s 53us/sample - loss: 0.5945 - accuracy: 0.7025\nEpoch 238/300\n25724/25724 [==============================] - 1s 54us/sample - loss: 0.5945 - accuracy: 0.7033\nEpoch 239/300\n25724/25724 [==============================] - 1s 53us/sample - loss: 0.5945 - accuracy: 0.7015\nEpoch 240/300\n25724/25724 [==============================] - 1s 50us/sample - loss: 0.5945 - accuracy: 0.7023\nEpoch 241/300\n25724/25724 [==============================] - 1s 49us/sample - loss: 0.5944 - accuracy: 0.7027\nEpoch 242/300\n25724/25724 [==============================] - 1s 49us/sample - loss: 0.5943 - accuracy: 0.7028\nEpoch 243/300\n25724/25724 [==============================] - 1s 49us/sample - loss: 0.5946 - accuracy: 0.7027\nEpoch 244/300\n25724/25724 [==============================] - 1s 52us/sample - loss: 0.5944 - accuracy: 0.7029\nEpoch 245/300\n25724/25724 [==============================] - 1s 52us/sample - loss: 0.5944 - accuracy: 0.7021\nEpoch 246/300\n25724/25724 [==============================] - 1s 49us/sample - loss: 0.5944 - accuracy: 0.7020\nEpoch 247/300\n25724/25724 [==============================] - 1s 51us/sample - loss: 0.5944 - accuracy: 0.7027\nEpoch 248/300\n25724/25724 [==============================] - 1s 52us/sample - loss: 0.5944 - accuracy: 0.7024\nEpoch 249/300\n25724/25724 [==============================] - 1s 50us/sample - loss: 0.5943 - accuracy: 0.7030\nEpoch 250/300\n25724/25724 [==============================] - 1s 53us/sample - loss: 0.5943 - accuracy: 0.7021\nEpoch 251/300\n25724/25724 [==============================] - 1s 50us/sample - loss: 0.5946 - accuracy: 0.7023\nEpoch 252/300\n25724/25724 [==============================] - 1s 54us/sample - loss: 0.5944 - accuracy: 0.7027\nEpoch 253/300\n25724/25724 [==============================] - 1s 51us/sample - loss: 0.5945 - accuracy: 0.7025\nEpoch 254/300\n25724/25724 [==============================] - 1s 53us/sample - loss: 0.5943 - accuracy: 0.7020\nEpoch 255/300\n25724/25724 [==============================] - 1s 54us/sample - loss: 0.5943 - accuracy: 0.7029\nEpoch 256/300\n25724/25724 [==============================] - 1s 53us/sample - loss: 0.5943 - accuracy: 0.7030\nEpoch 257/300\n25724/25724 [==============================] - 1s 51us/sample - loss: 0.5944 - accuracy: 0.7028\nEpoch 258/300\n25724/25724 [==============================] - 1s 50us/sample - loss: 0.5945 - accuracy: 0.7025\nEpoch 259/300\n25724/25724 [==============================] - 1s 52us/sample - loss: 0.5943 - accuracy: 0.7019\nEpoch 260/300\n25724/25724 [==============================] - 1s 51us/sample - loss: 0.5941 - accuracy: 0.7024\nEpoch 261/300\n25724/25724 [==============================] - 1s 57us/sample - loss: 0.5947 - accuracy: 0.7030\nEpoch 262/300\n25724/25724 [==============================] - 1s 56us/sample - loss: 0.5943 - accuracy: 0.7025\nEpoch 263/300\n25724/25724 [==============================] - 2s 59us/sample - loss: 0.5943 - accuracy: 0.7027\nEpoch 264/300\n25724/25724 [==============================] - 1s 57us/sample - loss: 0.5943 - accuracy: 0.7031\nEpoch 265/300\n25724/25724 [==============================] - 1s 50us/sample - loss: 0.5942 - accuracy: 0.7025\nEpoch 266/300\n25724/25724 [==============================] - 1s 51us/sample - loss: 0.5942 - accuracy: 0.7033\nEpoch 267/300\n25724/25724 [==============================] - 1s 52us/sample - loss: 0.5945 - accuracy: 0.7026\nEpoch 268/300\n25724/25724 [==============================] - 1s 56us/sample - loss: 0.5943 - accuracy: 0.7023\nEpoch 269/300\n25724/25724 [==============================] - 1s 56us/sample - loss: 0.5942 - accuracy: 0.7028\nEpoch 270/300\n25724/25724 [==============================] - 1s 53us/sample - loss: 0.5942 - accuracy: 0.7027\nEpoch 271/300\n25724/25724 [==============================] - 1s 54us/sample - loss: 0.5942 - accuracy: 0.7024\nEpoch 272/300\n25724/25724 [==============================] - 1s 57us/sample - loss: 0.5944 - accuracy: 0.7026\nEpoch 273/300\n25724/25724 [==============================] - 1s 54us/sample - loss: 0.5941 - accuracy: 0.7023\nEpoch 274/300\n25724/25724 [==============================] - 1s 54us/sample - loss: 0.5943 - accuracy: 0.7023\nEpoch 275/300\n25724/25724 [==============================] - 1s 55us/sample - loss: 0.5944 - accuracy: 0.7030\nEpoch 276/300\n25724/25724 [==============================] - 1s 55us/sample - loss: 0.5943 - accuracy: 0.7028\nEpoch 277/300\n25724/25724 [==============================] - 1s 55us/sample - loss: 0.5941 - accuracy: 0.7029\nEpoch 278/300\n25724/25724 [==============================] - 1s 52us/sample - loss: 0.5946 - accuracy: 0.7025\nEpoch 279/300\n25724/25724 [==============================] - 1s 49us/sample - loss: 0.5943 - accuracy: 0.7024\nEpoch 280/300\n25724/25724 [==============================] - 1s 49us/sample - loss: 0.5944 - accuracy: 0.7029\nEpoch 281/300\n25724/25724 [==============================] - 1s 57us/sample - loss: 0.5941 - accuracy: 0.7028\nEpoch 282/300\n25724/25724 [==============================] - 1s 55us/sample - loss: 0.5943 - accuracy: 0.7027\nEpoch 283/300\n25724/25724 [==============================] - 1s 55us/sample - loss: 0.5942 - accuracy: 0.7030\nEpoch 284/300\n25724/25724 [==============================] - 1s 51us/sample - loss: 0.5941 - accuracy: 0.7022\nEpoch 285/300\n25724/25724 [==============================] - 1s 49us/sample - loss: 0.5945 - accuracy: 0.7027\nEpoch 286/300\n25724/25724 [==============================] - 1s 49us/sample - loss: 0.5945 - accuracy: 0.7028\nEpoch 287/300\n25724/25724 [==============================] - 1s 50us/sample - loss: 0.5942 - accuracy: 0.7025\nEpoch 288/300\n25724/25724 [==============================] - 1s 49us/sample - loss: 0.5941 - accuracy: 0.7028\nEpoch 289/300\n25724/25724 [==============================] - 1s 52us/sample - loss: 0.5942 - accuracy: 0.7025\nEpoch 290/300\n25724/25724 [==============================] - 1s 55us/sample - loss: 0.5941 - accuracy: 0.7020\nEpoch 291/300\n25724/25724 [==============================] - 1s 50us/sample - loss: 0.5942 - accuracy: 0.7026\nEpoch 292/300\n25724/25724 [==============================] - 1s 50us/sample - loss: 0.5941 - accuracy: 0.7025\nEpoch 293/300\n25724/25724 [==============================] - 1s 55us/sample - loss: 0.5942 - accuracy: 0.7023\nEpoch 294/300\n25724/25724 [==============================] - 1s 53us/sample - loss: 0.5942 - accuracy: 0.7027\nEpoch 295/300\n25724/25724 [==============================] - 1s 50us/sample - loss: 0.5944 - accuracy: 0.7027\nEpoch 296/300\n25724/25724 [==============================] - 1s 54us/sample - loss: 0.5940 - accuracy: 0.7027\nEpoch 297/300\n25724/25724 [==============================] - 1s 56us/sample - loss: 0.5941 - accuracy: 0.7023\nEpoch 298/300\n25724/25724 [==============================] - 1s 52us/sample - loss: 0.5942 - accuracy: 0.7019\nEpoch 299/300\n25724/25724 [==============================] - 1s 52us/sample - loss: 0.5942 - accuracy: 0.7025\nEpoch 300/300\n25724/25724 [==============================] - 1s 50us/sample - loss: 0.5945 - accuracy: 0.7028\n8575/1 - 0s - loss: 0.6540 - accuracy: 0.6971\nLoss: 0.6111574629166383, Accuracy: 0.6971428394317627\n"
    }
   ],
   "source": [
    "# Train the model \n",
    "fit_model = nn.fit(X_train_scaled, y_train, epochs=300) \n",
    "# Evaluate the model using the test data \n",
    "model_loss, model_accuracy = nn.evaluate(X_test_scaled,y_test,verbose=2)\n",
    "print(f\"Loss: {model_loss}, Accuracy: {model_accuracy}\")"
   ]
  },
  {
   "cell_type": "code",
   "execution_count": null,
   "metadata": {},
   "outputs": [],
   "source": []
  }
 ],
 "metadata": {
  "language_info": {
   "codemirror_mode": {
    "name": "ipython",
    "version": 3
   },
   "file_extension": ".py",
   "mimetype": "text/x-python",
   "name": "python",
   "nbconvert_exporter": "python",
   "pygments_lexer": "ipython3",
   "version": 3
  },
  "orig_nbformat": 2,
  "kernelspec": {
   "name": "python_defaultSpec_1602802119232",
   "display_name": "Python 3.7.7 64-bit ('PythonData': conda)"
  }
 },
 "nbformat": 4,
 "nbformat_minor": 2
}